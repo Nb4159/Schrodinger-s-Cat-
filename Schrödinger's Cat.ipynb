{
 "cells": [
  {
   "cell_type": "code",
   "execution_count": 1,
   "id": "067f4fdf-0be3-483d-8364-1fcaaddd778b",
   "metadata": {
    "tags": []
   },
   "outputs": [],
   "source": [
    "# Importing standard Qiskit libraries\n",
    "from qiskit import QuantumCircuit, transpile,QuantumRegister,ClassicalRegister\n",
    "from qiskit.tools.jupyter import *\n",
    "from qiskit.visualization import *\n",
    "from ibm_quantum_widgets import *\n",
    "\n",
    "# qiskit-ibmq-provider has been deprecated.\n",
    "# Please see the Migration Guides in https://ibm.biz/provider_migration_guide for more detail.\n",
    "from qiskit_ibm_runtime import QiskitRuntimeService, Sampler, Estimator, Session, Options\n",
    "\n",
    "# Loading your IBM Quantum account(s)\n",
    "service = QiskitRuntimeService(channel=\"ibm_quantum\")\n",
    "\n",
    "# Invoke a primitive. For more details see https://docs.quantum-computing.ibm.com/run/primitives\n",
    "# result = Sampler().run(circuits).result()"
   ]
  },
  {
   "cell_type": "markdown",
   "id": "11b82c2d-d685-4122-a9d0-c1ebb86e862c",
   "metadata": {},
   "source": [
    "**Schrödinger's Cat**"
   ]
  },
  {
   "cell_type": "markdown",
   "id": "92112c70-9a0c-497b-9809-53ab304b31a7",
   "metadata": {},
   "source": [
    "Copenhagen Interpretation-observation causes collapse\n",
    "Everettian Quantum Mechanics uses a no Collapse Approach,and it leads to 2 emergent branches of Universe. Here one where we see a dead cat and the other where we see an alive cat. This is the Many-Worlds Interpretation.\n",
    "\n",
    "\n",
    "No Collapse situation"
   ]
  },
  {
   "cell_type": "code",
   "execution_count": 2,
   "id": "f1cec603-7574-4ac6-9be1-e413ec3b4daf",
   "metadata": {
    "tags": []
   },
   "outputs": [
    {
     "data": {
      "image/png": "[encoded data removed]",
      "text/plain": [
       "<Figure size 241.943x117.056 with 1 Axes>"
      ]
     },
     "execution_count": 2,
     "metadata": {},
     "output_type": "execute_result"
    }
   ],
   "source": [
    "qr=QuantumRegister(1,name=\"atom\")\n",
    "qc=QuantumCircuit(qr)\n",
    "qc.h(qr[0])#applying Hadamard Gate(creates superposition)\n",
    "qc.draw(\"mpl\")"
   ]
  },
  {
   "cell_type": "code",
   "execution_count": 3,
   "id": "3351798d-210d-4f45-9bde-a38c49c6fab8",
   "metadata": {
    "tags": []
   },
   "outputs": [
    {
     "name": "stdout",
     "output_type": "stream",
     "text": [
      "{'0': 515, '1': 509}\n"
     ]
    }
   ],
   "source": [
    "qc.measure_all()\n",
    "from qiskit_aer import AerSimulator\n",
    "backend=AerSimulator(shots=1024)\n",
    "result=backend.run(qc).result()\n",
    "print(result.get_counts())# we would get almost same number of counts for both. If we were to increase the number of shots in AerSimulator we would converge to 50-50%"
   ]
  },
  {
   "cell_type": "code",
   "execution_count": 4,
   "id": "a38c2e67-1d6e-4497-8865-83a7e83bece8",
   "metadata": {
    "tags": []
   },
   "outputs": [
    {
     "data": {
      "text/plain": [
       "<qiskit.circuit.instructionset.InstructionSet at 0x7fdeb34ad270>"
      ]
     },
     "execution_count": 4,
     "metadata": {},
     "output_type": "execute_result"
    }
   ],
   "source": [
    "# we will use a CNOT gate to rep cat interacting eith the radioactive atom above\n",
    "qr_cat=QuantumRegister(1,name=\"Cat\")\n",
    "qc=QuantumCircuit(qr,qr_cat)\n",
    "qc.h(qr[0])\n",
    "qc.cx(qr[0],qr_cat[0])#Here first one is the control qubit. Is its zero=>Not decayed=>cat alive"
   ]
  },
  {
   "cell_type": "code",
   "execution_count": 5,
   "id": "f312b3d3-84e6-4eee-b669-281592e31077",
   "metadata": {
    "tags": []
   },
   "outputs": [
    {
     "data": {
      "image/png": "[encoded data removed]",
      "text/plain": [
       "<Figure size 325.554x200.667 with 1 Axes>"
      ]
     },
     "execution_count": 5,
     "metadata": {},
     "output_type": "execute_result"
    }
   ],
   "source": [
    "qc.draw('mpl')"
   ]
  },
  {
   "cell_type": "code",
   "execution_count": 6,
   "id": "23f4dc47-26f3-40f0-84ff-37e635721ec8",
   "metadata": {
    "tags": []
   },
   "outputs": [
    {
     "name": "stdout",
     "output_type": "stream",
     "text": [
      "{'00': 528, '11': 496}\n"
     ]
    }
   ],
   "source": [
    "qc.measure_all()\n",
    "\n",
    "backend=AerSimulator(shots=1024)\n",
    "result=backend.run(qc).result()\n",
    "print(result.get_counts())# as we can see our cat is entangled with the atom.(as we only get op as 00 or 11) They are now a Quantum System"
   ]
  },
  {
   "cell_type": "code",
   "execution_count": 10,
   "id": "24e8be14-ce91-4548-961d-29d3dc082e51",
   "metadata": {
    "tags": []
   },
   "outputs": [
    {
     "data": {
      "text/plain": [
       "<qiskit.circuit.instructionset.InstructionSet at 0x7fdea02da8f0>"
      ]
     },
     "execution_count": 10,
     "metadata": {},
     "output_type": "execute_result"
    }
   ],
   "source": [
    "meas=ClassicalRegister(2)\n",
    "qr_cat=QuantumRegister(1,name=\"Cat\")\n",
    "qc=QuantumCircuit(qr,qr_cat,meas)\n",
    "qc.h(qr[0])\n",
    "qc.cx(qr[0],qr_cat[0])\n",
    "qc.measure(qr,meas[0])#measure atom in classical bit 0\n",
    "qc.measure(qr_cat,meas[1])#measuring cat in classical bit 1"
   ]
  },
  {
   "cell_type": "code",
   "execution_count": 11,
   "id": "3a96b8e7-d1f6-45e5-aa9c-77f6037e8079",
   "metadata": {
    "tags": []
   },
   "outputs": [
    {
     "data": {
      "image/png": "[encoded data removed]",
      "text/plain": [
       "<Figure size 492.776x284.278 with 1 Axes>"
      ]
     },
     "execution_count": 11,
     "metadata": {},
     "output_type": "execute_result"
    }
   ],
   "source": [
    "qc.draw('mpl')"
   ]
  },
  {
   "cell_type": "code",
   "execution_count": 12,
   "id": "70eeb78c-d8b0-4227-9eb4-73aa6292fd4f",
   "metadata": {
    "tags": []
   },
   "outputs": [
    {
     "name": "stdout",
     "output_type": "stream",
     "text": [
      "{'00': 1}\n"
     ]
    }
   ],
   "source": [
    "\n",
    "result=backend.run(qc,shots=1).result()#running for just one observation of us looking into box to check if the cat is alive or dead\n",
    "print(result.get_counts())"
   ]
  },
  {
   "cell_type": "markdown",
   "id": "9ca04c19-10af-43a4-8476-a2dc1f2b59d9",
   "metadata": {},
   "source": [
    "But we can model ourselves into this Quantum Sysytem as well"
   ]
  },
  {
   "cell_type": "code",
   "execution_count": 15,
   "id": "93f2f390-ec68-48d3-bf8a-18fb3a520de5",
   "metadata": {
    "tags": []
   },
   "outputs": [
    {
     "data": {
      "text/plain": [
       "<qiskit.circuit.instructionset.InstructionSet at 0x7fde527a13f0>"
      ]
     },
     "execution_count": 15,
     "metadata": {},
     "output_type": "execute_result"
    }
   ],
   "source": [
    "meas=ClassicalRegister(3)\n",
    "qr_observe=QuantumRegister(1,name=\"observer\")\n",
    "qc=QuantumCircuit(qr,qr_cat,qr_observe,meas)\n",
    "qc.h(qr[0])\n",
    "qc.cx(qr[0],qr_cat[0])\n",
    "qc.cx(qr_cat[0],qr_observe[0])#Now we are entangling ourselves with the cat\n",
    "qc.measure(qr,meas[0])#measure atom in classical bit 0\n",
    "qc.measure(qr_cat,meas[1])\n",
    "qc.measure(qr_observe,meas[2])#measuring observation result in classical bit 2"
   ]
  },
  {
   "cell_type": "code",
   "execution_count": 16,
   "id": "5f83d268-6c10-4b0e-894f-8a6ec03beaf0",
   "metadata": {
    "tags": []
   },
   "outputs": [
    {
     "data": {
      "image/png": "[encoded data removed]",
      "text/plain": [
       "<Figure size 713.074x367.889 with 1 Axes>"
      ]
     },
     "execution_count": 16,
     "metadata": {},
     "output_type": "execute_result"
    }
   ],
   "source": [
    "qc.draw('mpl')"
   ]
  },
  {
   "cell_type": "markdown",
   "id": "d044e103-310d-45f5-b8c7-3d00679d4191",
   "metadata": {},
   "source": [
    "Representing how every qubit becomes entangled using something like a domino effect"
   ]
  },
  {
   "cell_type": "code",
   "execution_count": 18,
   "id": "032ce7ac-7954-4b24-ab60-e983aa49b861",
   "metadata": {
    "tags": []
   },
   "outputs": [
    {
     "data": {
      "image/png": "[encoded data removed]",
      "text/plain": [
       "<Figure size 955.43x785.944 with 1 Axes>"
      ]
     },
     "execution_count": 18,
     "metadata": {},
     "output_type": "execute_result"
    }
   ],
   "source": [
    "meas=ClassicalRegister(3)\n",
    "qr_env=QuantumRegister(5,name=\"environment\")\n",
    "qc=QuantumCircuit(qr,qr_cat,qr_observe,qr_env,meas)\n",
    "qc.h(qr[0])\n",
    "qc.cx(qr[0],qr_cat[0])\n",
    "qc.cx(qr_cat[0],qr_observe[0])\n",
    "qc.cx(qr_observe[0],qr_env[0])\n",
    "for i in range(0,4):\n",
    "    qc.cx(qr_env[i],qr_env[i+1])\n",
    "#qc.measure(qr,meas[0])\n",
    "#qc.measure(qr_cat,meas[1])\n",
    "#qc.measure(qr_observe,meas[2])\n",
    "qc.draw('mpl')\n",
    "# Now as we can see all qubits are entangled theya re either all zero or all one. Therefore everyone will se the same result."
   ]
  },
  {
   "cell_type": "markdown",
   "id": "e635959e-9c59-4e4d-b7e7-21acea08edc5",
   "metadata": {},
   "source": [
    "So, in accordance with Everttian theory observer is in a branch of universe of either all 1s or all 0s i.e. everyone in the universe will notice only one posiibilty. Either cat is dead or it is alive."
   ]
  },
  {
   "cell_type": "markdown",
   "id": "29ca0356-2e16-4113-bcc7-580e5bfbeb41",
   "metadata": {},
   "source": [
    "This is Quantum Dechoherence where on interacting with the environment the quantum system loses its quantum properties."
   ]
  },
  {
   "cell_type": "markdown",
   "id": "9918b9e8-e264-4f2e-884a-a291a3803fc7",
   "metadata": {},
   "source": [
    "Is we were to measure the sates now, we would again get roughly 50-50% distribution in states 0 and 1. This is the principle of deferred measurement. It states that the counts before and after controls is equal."
   ]
  }
 ],
 "metadata": {
  "kernelspec": {
   "display_name": "Python 3 (ipykernel)",
   "language": "python",
   "name": "python3"
  },
  "language_info": {
   "codemirror_mode": {
    "name": "ipython",
    "version": 3
   },
   "file_extension": ".py",
   "mimetype": "text/x-python",
   "name": "python",
   "nbconvert_exporter": "python",
   "pygments_lexer": "ipython3",
   "version": "3.10.8"
  },
  "widgets": {
   "application/vnd.jupyter.widget-state+json": {
    "state": {
     "02df6c1b354f4d6f84c8610846e613cd": {
      "model_module": "@jupyter-widgets/controls",
      "model_module_version": "2.0.0",
      "model_name": "HTMLModel",
      "state": {
       "layout": "IPY_MODEL_c694ca874e4e459483499d85ba21d4ea",
       "style": "IPY_MODEL_56e014d8c16d450a865f3d033e2bfa44",
       "value": "<h5>Queue</h5>"
      }
     },
     "0835b91c99dd4be9b9b5d73189b062de": {
      "model_module": "@jupyter-widgets/controls",
      "model_module_version": "2.0.0",
      "model_name": "HTMLStyleModel",
      "state": {
       "description_width": "",
       "font_size": null,
       "text_color": null
      }
     },
     "31da0eb5bc0e45cfb086d3e293fc670f": {
      "model_module": "@jupyter-widgets/base",
      "model_module_version": "2.0.0",
      "model_name": "LayoutModel",
      "state": {
       "margin": "0px 0px 0px 37px",
       "width": "600px"
      }
     },
     "4318a6a78a4e4d4dbe81a4719cfe0d4a": {
      "model_module": "@jupyter-widgets/base",
      "model_module_version": "2.0.0",
      "model_name": "LayoutModel",
      "state": {
       "margin": "0px 0px 10px 0px"
      }
     },
     "456aabaa14ed491b9d10738aaff8bbb0": {
      "model_module": "@jupyter-widgets/base",
      "model_module_version": "2.0.0",
      "model_name": "LayoutModel",
      "state": {
       "width": "145px"
      }
     },
     "46f0e035196a4f46ad53987fd201cedf": {
      "model_module": "@jupyter-widgets/controls",
      "model_module_version": "2.0.0",
      "model_name": "HTMLStyleModel",
      "state": {
       "description_width": "",
       "font_size": null,
       "text_color": null
      }
     },
     "4a86eba96adc4bba96b4958043b5e58f": {
      "model_module": "@jupyter-widgets/controls",
      "model_module_version": "2.0.0",
      "model_name": "HTMLModel",
      "state": {
       "layout": "IPY_MODEL_4318a6a78a4e4d4dbe81a4719cfe0d4a",
       "style": "IPY_MODEL_d79c42020b8c423ab20283b6dec2d71b",
       "value": "<p style='font-family: IBM Plex Sans, Arial, Helvetica, sans-serif; font-size: 20px; font-weight: medium;'>Circuit Properties</p>"
      }
     },
     "4b997a14063f4552bfc758f33136c22e": {
      "model_module": "@jupyter-widgets/controls",
      "model_module_version": "2.0.0",
      "model_name": "HTMLStyleModel",
      "state": {
       "description_width": "",
       "font_size": null,
       "text_color": null
      }
     },
     "56e014d8c16d450a865f3d033e2bfa44": {
      "model_module": "@jupyter-widgets/controls",
      "model_module_version": "2.0.0",
      "model_name": "HTMLStyleModel",
      "state": {
       "description_width": "",
       "font_size": null,
       "text_color": null
      }
     },
     "5a781e379f014164af09ea788e9e0f86": {
      "model_module": "@jupyter-widgets/controls",
      "model_module_version": "2.0.0",
      "model_name": "HBoxModel",
      "state": {
       "children": [
        "IPY_MODEL_e48c3f6f7f464855892c7ed0be9b67bd",
        "IPY_MODEL_dff35569c70446cc9d78b51cf920be64",
        "IPY_MODEL_787716b3f2bf4101b8496c0f18a78b76",
        "IPY_MODEL_02df6c1b354f4d6f84c8610846e613cd",
        "IPY_MODEL_6279ffa87b4040f19269a626fa231698"
       ],
       "layout": "IPY_MODEL_31da0eb5bc0e45cfb086d3e293fc670f"
      }
     },
     "6279ffa87b4040f19269a626fa231698": {
      "model_module": "@jupyter-widgets/controls",
      "model_module_version": "2.0.0",
      "model_name": "HTMLModel",
      "state": {
       "layout": "IPY_MODEL_63cda6ba799e4ebb969b58325669fc50",
       "style": "IPY_MODEL_46f0e035196a4f46ad53987fd201cedf",
       "value": "<h5>Message</h5>"
      }
     },
     "63cda6ba799e4ebb969b58325669fc50": {
      "model_module": "@jupyter-widgets/base",
      "model_module_version": "2.0.0",
      "model_name": "LayoutModel",
      "state": {}
     },
     "71e43ad6a9dc4c29bb06e329c94f9466": {
      "model_module": "@jupyter-widgets/controls",
      "model_module_version": "2.0.0",
      "model_name": "ButtonStyleModel",
      "state": {
       "font_family": null,
       "font_size": null,
       "font_style": null,
       "font_variant": null,
       "font_weight": null,
       "text_color": null,
       "text_decoration": null
      }
     },
     "787716b3f2bf4101b8496c0f18a78b76": {
      "model_module": "@jupyter-widgets/controls",
      "model_module_version": "2.0.0",
      "model_name": "HTMLModel",
      "state": {
       "layout": "IPY_MODEL_d48c600a33c641dbba5ec5f7c7d0d757",
       "style": "IPY_MODEL_0835b91c99dd4be9b9b5d73189b062de",
       "value": "<h5>Status</h5>"
      }
     },
     "9317f0440cb442398fd404bfe8e4108a": {
      "model_module": "@jupyter-widgets/controls",
      "model_module_version": "2.0.0",
      "model_name": "HTMLStyleModel",
      "state": {
       "description_width": "",
       "font_size": null,
       "text_color": null
      }
     },
     "98d683a3d8e2415584ae1bc48a659c20": {
      "model_module": "@jupyter-widgets/base",
      "model_module_version": "2.0.0",
      "model_name": "LayoutModel",
      "state": {
       "width": "190px"
      }
     },
     "c694ca874e4e459483499d85ba21d4ea": {
      "model_module": "@jupyter-widgets/base",
      "model_module_version": "2.0.0",
      "model_name": "LayoutModel",
      "state": {
       "width": "70px"
      }
     },
     "d22911b812f5465fae5c874458f43548": {
      "model_module": "@jupyter-widgets/controls",
      "model_module_version": "2.0.0",
      "model_name": "ButtonModel",
      "state": {
       "button_style": "primary",
       "description": "Clear",
       "layout": "IPY_MODEL_d4c703665e6f4d98b9b4cd6965db9c63",
       "style": "IPY_MODEL_71e43ad6a9dc4c29bb06e329c94f9466",
       "tooltip": null
      }
     },
     "d48c600a33c641dbba5ec5f7c7d0d757": {
      "model_module": "@jupyter-widgets/base",
      "model_module_version": "2.0.0",
      "model_name": "LayoutModel",
      "state": {
       "width": "95px"
      }
     },
     "d4c703665e6f4d98b9b4cd6965db9c63": {
      "model_module": "@jupyter-widgets/base",
      "model_module_version": "2.0.0",
      "model_name": "LayoutModel",
      "state": {
       "grid_area": "right",
       "padding": "0px 0px 0px 0px",
       "width": "70px"
      }
     },
     "d79c42020b8c423ab20283b6dec2d71b": {
      "model_module": "@jupyter-widgets/controls",
      "model_module_version": "2.0.0",
      "model_name": "HTMLStyleModel",
      "state": {
       "description_width": "",
       "font_size": null,
       "text_color": null
      }
     },
     "db08bb0ce694433fa9ae6b0d6e0d7d5d": {
      "model_module": "@jupyter-widgets/controls",
      "model_module_version": "2.0.0",
      "model_name": "GridBoxModel",
      "state": {
       "children": [
        "IPY_MODEL_d22911b812f5465fae5c874458f43548"
       ],
       "layout": "IPY_MODEL_dc9ff5e557d349f282de4e57c588f52d"
      }
     },
     "dc9ff5e557d349f282de4e57c588f52d": {
      "model_module": "@jupyter-widgets/base",
      "model_module_version": "2.0.0",
      "model_name": "LayoutModel",
      "state": {
       "grid_template_areas": "\n                                       \". . . . right \"\n                                        ",
       "grid_template_columns": "20% 20% 20% 20% 20%",
       "width": "100%"
      }
     },
     "dff35569c70446cc9d78b51cf920be64": {
      "model_module": "@jupyter-widgets/controls",
      "model_module_version": "2.0.0",
      "model_name": "HTMLModel",
      "state": {
       "layout": "IPY_MODEL_456aabaa14ed491b9d10738aaff8bbb0",
       "style": "IPY_MODEL_9317f0440cb442398fd404bfe8e4108a",
       "value": "<h5>Backend</h5>"
      }
     },
     "e48c3f6f7f464855892c7ed0be9b67bd": {
      "model_module": "@jupyter-widgets/controls",
      "model_module_version": "2.0.0",
      "model_name": "HTMLModel",
      "state": {
       "layout": "IPY_MODEL_98d683a3d8e2415584ae1bc48a659c20",
       "style": "IPY_MODEL_4b997a14063f4552bfc758f33136c22e",
       "value": "<h5>Job ID</h5>"
      }
     }
    },
    "version_major": 2,
    "version_minor": 0
   }
  }
 },
 "nbformat": 4,
 "nbformat_minor": 5
}
